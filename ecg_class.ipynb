{
  "metadata": {
    "kernelspec": {
      "display_name": "Python 3",
      "name": "python3"
    },
    "language_info": {
      "name": "python",
      "version": "3.11.11",
      "mimetype": "text/x-python",
      "codemirror_mode": {
        "name": "ipython",
        "version": 3
      },
      "pygments_lexer": "ipython3",
      "nbconvert_exporter": "python",
      "file_extension": ".py"
    },
    "kaggle": {
      "accelerator": "none",
      "dataSources": [],
      "dockerImageVersionId": 31040,
      "isInternetEnabled": false,
      "language": "python",
      "sourceType": "notebook",
      "isGpuEnabled": false
    },
    "colab": {
      "provenance": [],
      "gpuType": "T4"
    },
    "accelerator": "GPU"
  },
  "nbformat_minor": 0,
  "nbformat": 4,
  "cells": [
    {
      "cell_type": "code",
      "source": [
        "from google.colab import files\n",
        "\n",
        "# This will prompt you to upload the kaggle.json file\n",
        "files.upload()\n",
        "\n",
        "!mkdir -p ~/.kaggle\n",
        "!cp kaggle.json ~/.kaggle/\n",
        "!chmod 600 ~/.kaggle/kaggle.json"
      ],
      "metadata": {
        "trusted": true,
        "execution": {
          "iopub.status.busy": "2025-05-18T23:45:36.953006Z",
          "iopub.execute_input": "2025-05-18T23:45:36.953192Z",
          "iopub.status.idle": "2025-05-18T23:45:36.960329Z",
          "shell.execute_reply.started": "2025-05-18T23:45:36.953174Z",
          "shell.execute_reply": "2025-05-18T23:45:36.959334Z"
        },
        "id": "9-jKaZvWHW4H",
        "outputId": "9866e2b4-8efc-4cc2-e849-7514f89425a5",
        "colab": {
          "base_uri": "https://localhost:8080/",
          "height": 69
        }
      },
      "outputs": [
        {
          "output_type": "display_data",
          "data": {
            "text/plain": [
              "<IPython.core.display.HTML object>"
            ],
            "text/html": [
              "\n",
              "     <input type=\"file\" id=\"files-1582e771-3495-4475-bd4e-58282e31381c\" name=\"files[]\" multiple disabled\n",
              "        style=\"border:none\" />\n",
              "     <output id=\"result-1582e771-3495-4475-bd4e-58282e31381c\">\n",
              "      Upload widget is only available when the cell has been executed in the\n",
              "      current browser session. Please rerun this cell to enable.\n",
              "      </output>\n",
              "      <script>// Copyright 2017 Google LLC\n",
              "//\n",
              "// Licensed under the Apache License, Version 2.0 (the \"License\");\n",
              "// you may not use this file except in compliance with the License.\n",
              "// You may obtain a copy of the License at\n",
              "//\n",
              "//      http://www.apache.org/licenses/LICENSE-2.0\n",
              "//\n",
              "// Unless required by applicable law or agreed to in writing, software\n",
              "// distributed under the License is distributed on an \"AS IS\" BASIS,\n",
              "// WITHOUT WARRANTIES OR CONDITIONS OF ANY KIND, either express or implied.\n",
              "// See the License for the specific language governing permissions and\n",
              "// limitations under the License.\n",
              "\n",
              "/**\n",
              " * @fileoverview Helpers for google.colab Python module.\n",
              " */\n",
              "(function(scope) {\n",
              "function span(text, styleAttributes = {}) {\n",
              "  const element = document.createElement('span');\n",
              "  element.textContent = text;\n",
              "  for (const key of Object.keys(styleAttributes)) {\n",
              "    element.style[key] = styleAttributes[key];\n",
              "  }\n",
              "  return element;\n",
              "}\n",
              "\n",
              "// Max number of bytes which will be uploaded at a time.\n",
              "const MAX_PAYLOAD_SIZE = 100 * 1024;\n",
              "\n",
              "function _uploadFiles(inputId, outputId) {\n",
              "  const steps = uploadFilesStep(inputId, outputId);\n",
              "  const outputElement = document.getElementById(outputId);\n",
              "  // Cache steps on the outputElement to make it available for the next call\n",
              "  // to uploadFilesContinue from Python.\n",
              "  outputElement.steps = steps;\n",
              "\n",
              "  return _uploadFilesContinue(outputId);\n",
              "}\n",
              "\n",
              "// This is roughly an async generator (not supported in the browser yet),\n",
              "// where there are multiple asynchronous steps and the Python side is going\n",
              "// to poll for completion of each step.\n",
              "// This uses a Promise to block the python side on completion of each step,\n",
              "// then passes the result of the previous step as the input to the next step.\n",
              "function _uploadFilesContinue(outputId) {\n",
              "  const outputElement = document.getElementById(outputId);\n",
              "  const steps = outputElement.steps;\n",
              "\n",
              "  const next = steps.next(outputElement.lastPromiseValue);\n",
              "  return Promise.resolve(next.value.promise).then((value) => {\n",
              "    // Cache the last promise value to make it available to the next\n",
              "    // step of the generator.\n",
              "    outputElement.lastPromiseValue = value;\n",
              "    return next.value.response;\n",
              "  });\n",
              "}\n",
              "\n",
              "/**\n",
              " * Generator function which is called between each async step of the upload\n",
              " * process.\n",
              " * @param {string} inputId Element ID of the input file picker element.\n",
              " * @param {string} outputId Element ID of the output display.\n",
              " * @return {!Iterable<!Object>} Iterable of next steps.\n",
              " */\n",
              "function* uploadFilesStep(inputId, outputId) {\n",
              "  const inputElement = document.getElementById(inputId);\n",
              "  inputElement.disabled = false;\n",
              "\n",
              "  const outputElement = document.getElementById(outputId);\n",
              "  outputElement.innerHTML = '';\n",
              "\n",
              "  const pickedPromise = new Promise((resolve) => {\n",
              "    inputElement.addEventListener('change', (e) => {\n",
              "      resolve(e.target.files);\n",
              "    });\n",
              "  });\n",
              "\n",
              "  const cancel = document.createElement('button');\n",
              "  inputElement.parentElement.appendChild(cancel);\n",
              "  cancel.textContent = 'Cancel upload';\n",
              "  const cancelPromise = new Promise((resolve) => {\n",
              "    cancel.onclick = () => {\n",
              "      resolve(null);\n",
              "    };\n",
              "  });\n",
              "\n",
              "  // Wait for the user to pick the files.\n",
              "  const files = yield {\n",
              "    promise: Promise.race([pickedPromise, cancelPromise]),\n",
              "    response: {\n",
              "      action: 'starting',\n",
              "    }\n",
              "  };\n",
              "\n",
              "  cancel.remove();\n",
              "\n",
              "  // Disable the input element since further picks are not allowed.\n",
              "  inputElement.disabled = true;\n",
              "\n",
              "  if (!files) {\n",
              "    return {\n",
              "      response: {\n",
              "        action: 'complete',\n",
              "      }\n",
              "    };\n",
              "  }\n",
              "\n",
              "  for (const file of files) {\n",
              "    const li = document.createElement('li');\n",
              "    li.append(span(file.name, {fontWeight: 'bold'}));\n",
              "    li.append(span(\n",
              "        `(${file.type || 'n/a'}) - ${file.size} bytes, ` +\n",
              "        `last modified: ${\n",
              "            file.lastModifiedDate ? file.lastModifiedDate.toLocaleDateString() :\n",
              "                                    'n/a'} - `));\n",
              "    const percent = span('0% done');\n",
              "    li.appendChild(percent);\n",
              "\n",
              "    outputElement.appendChild(li);\n",
              "\n",
              "    const fileDataPromise = new Promise((resolve) => {\n",
              "      const reader = new FileReader();\n",
              "      reader.onload = (e) => {\n",
              "        resolve(e.target.result);\n",
              "      };\n",
              "      reader.readAsArrayBuffer(file);\n",
              "    });\n",
              "    // Wait for the data to be ready.\n",
              "    let fileData = yield {\n",
              "      promise: fileDataPromise,\n",
              "      response: {\n",
              "        action: 'continue',\n",
              "      }\n",
              "    };\n",
              "\n",
              "    // Use a chunked sending to avoid message size limits. See b/62115660.\n",
              "    let position = 0;\n",
              "    do {\n",
              "      const length = Math.min(fileData.byteLength - position, MAX_PAYLOAD_SIZE);\n",
              "      const chunk = new Uint8Array(fileData, position, length);\n",
              "      position += length;\n",
              "\n",
              "      const base64 = btoa(String.fromCharCode.apply(null, chunk));\n",
              "      yield {\n",
              "        response: {\n",
              "          action: 'append',\n",
              "          file: file.name,\n",
              "          data: base64,\n",
              "        },\n",
              "      };\n",
              "\n",
              "      let percentDone = fileData.byteLength === 0 ?\n",
              "          100 :\n",
              "          Math.round((position / fileData.byteLength) * 100);\n",
              "      percent.textContent = `${percentDone}% done`;\n",
              "\n",
              "    } while (position < fileData.byteLength);\n",
              "  }\n",
              "\n",
              "  // All done.\n",
              "  yield {\n",
              "    response: {\n",
              "      action: 'complete',\n",
              "    }\n",
              "  };\n",
              "}\n",
              "\n",
              "scope.google = scope.google || {};\n",
              "scope.google.colab = scope.google.colab || {};\n",
              "scope.google.colab._files = {\n",
              "  _uploadFiles,\n",
              "  _uploadFilesContinue,\n",
              "};\n",
              "})(self);\n",
              "</script> "
            ]
          },
          "metadata": {}
        },
        {
          "output_type": "stream",
          "name": "stdout",
          "text": [
            "Saving kaggle.json to kaggle.json\n"
          ]
        }
      ],
      "execution_count": null
    },
    {
      "cell_type": "code",
      "source": [
        "!kaggle datasets download -d shayanfazeli/heartbeat\n",
        "!unzip heartbeat.zip -d heartbeat_data\n",
        "!ls heartbeat_data"
      ],
      "metadata": {
        "id": "1x1fKhdsM8WD",
        "outputId": "69a1c892-13a2-4449-c9b2-be26a52712a2",
        "colab": {
          "base_uri": "https://localhost:8080/"
        }
      },
      "execution_count": null,
      "outputs": [
        {
          "output_type": "stream",
          "name": "stdout",
          "text": [
            "Dataset URL: https://www.kaggle.com/datasets/shayanfazeli/heartbeat\n",
            "License(s): unknown\n",
            "Downloading heartbeat.zip to /content\n",
            "  0% 0.00/98.8M [00:00<?, ?B/s]\n",
            "100% 98.8M/98.8M [00:00<00:00, 1.39GB/s]\n",
            "Archive:  heartbeat.zip\n",
            "  inflating: heartbeat_data/mitbih_test.csv  \n",
            "  inflating: heartbeat_data/mitbih_train.csv  \n",
            "  inflating: heartbeat_data/ptbdb_abnormal.csv  \n",
            "  inflating: heartbeat_data/ptbdb_normal.csv  \n",
            "mitbih_test.csv  mitbih_train.csv  ptbdb_abnormal.csv  ptbdb_normal.csv\n"
          ]
        }
      ]
    },
    {
      "cell_type": "code",
      "source": [
        "import pandas as pd\n",
        "import numpy as np\n",
        "import torch\n",
        "import torch.nn as nn\n",
        "from torch.utils.data import TensorDataset, DataLoader\n",
        "from sklearn.utils import resample\n",
        "from sklearn.metrics import classification_report, confusion_matrix\n",
        "import seaborn as sns\n",
        "import matplotlib.pyplot as plt\n",
        "from sklearn.utils.class_weight import compute_class_weight\n",
        "\n",
        "device = torch.device(\"cuda\" if torch.cuda.is_available() else \"cpu\")\n",
        "print(f\"Using device: {device}\")"
      ],
      "metadata": {
        "colab": {
          "base_uri": "https://localhost:8080/"
        },
        "id": "Iaxjyv7-r_LI",
        "outputId": "cbc41efa-f0e8-4325-8553-3bffe32e6825"
      },
      "execution_count": null,
      "outputs": [
        {
          "output_type": "stream",
          "name": "stdout",
          "text": [
            "Using device: cuda\n"
          ]
        }
      ]
    },
    {
      "cell_type": "code",
      "source": [
        "train_df = pd.read_csv('heartbeat_data/mitbih_train.csv')\n",
        "test_df = pd.read_csv('heartbeat_data/mitbih_test.csv')"
      ],
      "metadata": {
        "id": "PSy_Gu-osaew"
      },
      "execution_count": null,
      "outputs": []
    },
    {
      "cell_type": "code",
      "source": [
        "target_col = train_df.columns[-1]\n",
        "train_df.isna().any().any()"
      ],
      "metadata": {
        "colab": {
          "base_uri": "https://localhost:8080/"
        },
        "id": "yx-LFLdcxfeW",
        "outputId": "785f3c41-b246-4084-e1ef-4b746d856656"
      },
      "execution_count": null,
      "outputs": [
        {
          "output_type": "execute_result",
          "data": {
            "text/plain": [
              "np.False_"
            ]
          },
          "metadata": {},
          "execution_count": 5
        }
      ]
    },
    {
      "cell_type": "code",
      "source": [
        "train_df[target_col].value_counts()"
      ],
      "metadata": {
        "colab": {
          "base_uri": "https://localhost:8080/",
          "height": 269
        },
        "id": "wBD_ZbdRsz-f",
        "outputId": "cef99184-f449-4646-eee3-054a251072ed"
      },
      "execution_count": null,
      "outputs": [
        {
          "output_type": "execute_result",
          "data": {
            "text/plain": [
              "0.000000000000000000e+00.88\n",
              "0.0    72470\n",
              "4.0     6431\n",
              "2.0     5788\n",
              "1.0     2223\n",
              "3.0      641\n",
              "Name: count, dtype: int64"
            ],
            "text/html": [
              "<div>\n",
              "<style scoped>\n",
              "    .dataframe tbody tr th:only-of-type {\n",
              "        vertical-align: middle;\n",
              "    }\n",
              "\n",
              "    .dataframe tbody tr th {\n",
              "        vertical-align: top;\n",
              "    }\n",
              "\n",
              "    .dataframe thead th {\n",
              "        text-align: right;\n",
              "    }\n",
              "</style>\n",
              "<table border=\"1\" class=\"dataframe\">\n",
              "  <thead>\n",
              "    <tr style=\"text-align: right;\">\n",
              "      <th></th>\n",
              "      <th>count</th>\n",
              "    </tr>\n",
              "    <tr>\n",
              "      <th>0.000000000000000000e+00.88</th>\n",
              "      <th></th>\n",
              "    </tr>\n",
              "  </thead>\n",
              "  <tbody>\n",
              "    <tr>\n",
              "      <th>0.0</th>\n",
              "      <td>72470</td>\n",
              "    </tr>\n",
              "    <tr>\n",
              "      <th>4.0</th>\n",
              "      <td>6431</td>\n",
              "    </tr>\n",
              "    <tr>\n",
              "      <th>2.0</th>\n",
              "      <td>5788</td>\n",
              "    </tr>\n",
              "    <tr>\n",
              "      <th>1.0</th>\n",
              "      <td>2223</td>\n",
              "    </tr>\n",
              "    <tr>\n",
              "      <th>3.0</th>\n",
              "      <td>641</td>\n",
              "    </tr>\n",
              "  </tbody>\n",
              "</table>\n",
              "</div><br><label><b>dtype:</b> int64</label>"
            ]
          },
          "metadata": {},
          "execution_count": 6
        }
      ]
    },
    {
      "cell_type": "code",
      "source": [
        "#train_df[target_col] = train_df[target_col].astype('int')\n",
        "#train_df[target_col].head()"
      ],
      "metadata": {
        "id": "DJH4iyyV15_z"
      },
      "execution_count": null,
      "outputs": []
    },
    {
      "cell_type": "code",
      "source": [
        "N_SAMPLES = 20000\n",
        "\n",
        "# Resample\n",
        "df0 = train_df[train_df[target_col]==0]\n",
        "df1 = train_df[train_df[target_col]==1]\n",
        "df2 = train_df[train_df[target_col]==2]\n",
        "df3 = train_df[train_df[target_col]==3]\n",
        "df4 = train_df[train_df[target_col]==4]\n",
        "\n",
        "\n",
        "df0_resampled = resample(df0, replace=False, n_samples=N_SAMPLES, random_state=42)\n",
        "df1_resampled = resample(df1, replace=True, n_samples=N_SAMPLES, random_state=42)\n",
        "df2_resampled = resample(df2, replace=True, n_samples=N_SAMPLES, random_state=42)\n",
        "df3_resampled = resample(df3, replace=True, n_samples=N_SAMPLES, random_state=42)\n",
        "df4_resampled = resample(df4, replace=True, n_samples=N_SAMPLES, random_state=42)\n"
      ],
      "metadata": {
        "id": "0X7YkI21y6HC"
      },
      "execution_count": null,
      "outputs": []
    },
    {
      "cell_type": "code",
      "source": [
        "train_df = pd.concat([df0_resampled, df1_resampled, df2_resampled, df3_resampled, df4_resampled])\n",
        "train_df[target_col].value_counts()"
      ],
      "metadata": {
        "colab": {
          "base_uri": "https://localhost:8080/",
          "height": 269
        },
        "id": "9dEAn8Kz2pjz",
        "outputId": "384a38d5-a714-4032-d1c4-762429948244"
      },
      "execution_count": null,
      "outputs": [
        {
          "output_type": "execute_result",
          "data": {
            "text/plain": [
              "0.000000000000000000e+00.88\n",
              "0.0    20000\n",
              "1.0    20000\n",
              "2.0    20000\n",
              "3.0    20000\n",
              "4.0    20000\n",
              "Name: count, dtype: int64"
            ],
            "text/html": [
              "<div>\n",
              "<style scoped>\n",
              "    .dataframe tbody tr th:only-of-type {\n",
              "        vertical-align: middle;\n",
              "    }\n",
              "\n",
              "    .dataframe tbody tr th {\n",
              "        vertical-align: top;\n",
              "    }\n",
              "\n",
              "    .dataframe thead th {\n",
              "        text-align: right;\n",
              "    }\n",
              "</style>\n",
              "<table border=\"1\" class=\"dataframe\">\n",
              "  <thead>\n",
              "    <tr style=\"text-align: right;\">\n",
              "      <th></th>\n",
              "      <th>count</th>\n",
              "    </tr>\n",
              "    <tr>\n",
              "      <th>0.000000000000000000e+00.88</th>\n",
              "      <th></th>\n",
              "    </tr>\n",
              "  </thead>\n",
              "  <tbody>\n",
              "    <tr>\n",
              "      <th>0.0</th>\n",
              "      <td>20000</td>\n",
              "    </tr>\n",
              "    <tr>\n",
              "      <th>1.0</th>\n",
              "      <td>20000</td>\n",
              "    </tr>\n",
              "    <tr>\n",
              "      <th>2.0</th>\n",
              "      <td>20000</td>\n",
              "    </tr>\n",
              "    <tr>\n",
              "      <th>3.0</th>\n",
              "      <td>20000</td>\n",
              "    </tr>\n",
              "    <tr>\n",
              "      <th>4.0</th>\n",
              "      <td>20000</td>\n",
              "    </tr>\n",
              "  </tbody>\n",
              "</table>\n",
              "</div><br><label><b>dtype:</b> int64</label>"
            ]
          },
          "metadata": {},
          "execution_count": 9
        }
      ]
    },
    {
      "cell_type": "code",
      "source": [
        "# Convert to tensors\n",
        "X_train_pd = train_df.iloc[:, :-1].values\n",
        "y_train_pd = train_df.iloc[:, -1].values\n",
        "X_test_pd = test_df.iloc[:, :-1].values\n",
        "y_test_pd = test_df.iloc[:, -1].values\n",
        "\n",
        "X_train = torch.tensor(X_train_pd, dtype = torch.float32).unsqueeze(1)\n",
        "y_train = torch.tensor(y_train_pd, dtype = torch.long)\n",
        "X_test = torch.tensor(X_test_pd, dtype = torch.float32).unsqueeze(1)\n",
        "y_test = torch.tensor(y_test_pd, dtype = torch.long)\n",
        "\n",
        "print(X_train.shape, y_train.shape)\n",
        "print(X_test.shape, y_test.shape)"
      ],
      "metadata": {
        "colab": {
          "base_uri": "https://localhost:8080/"
        },
        "id": "WCyMFx4b22bO",
        "outputId": "e9bbe6e3-f0a6-4121-ab13-b3b9addbf3bc"
      },
      "execution_count": null,
      "outputs": [
        {
          "output_type": "stream",
          "name": "stdout",
          "text": [
            "torch.Size([100000, 1, 187]) torch.Size([100000])\n",
            "torch.Size([21891, 1, 187]) torch.Size([21891])\n"
          ]
        }
      ]
    },
    {
      "cell_type": "code",
      "source": [
        "train_dataset = TensorDataset(X_train, y_train)\n",
        "test_dataset = TensorDataset(X_test, y_test)"
      ],
      "metadata": {
        "id": "3IyHv3776ld8"
      },
      "execution_count": null,
      "outputs": []
    },
    {
      "cell_type": "code",
      "source": [
        "BATCH_SIZE = 64\n",
        "# Data loaders\n",
        "train_loader = DataLoader(train_dataset, batch_size = BATCH_SIZE, shuffle=True)\n",
        "test_loader = DataLoader(test_dataset, batch_size = BATCH_SIZE, shuffle=False)"
      ],
      "metadata": {
        "id": "A-H0GF4m6vqR"
      },
      "execution_count": null,
      "outputs": []
    },
    {
      "cell_type": "code",
      "source": [
        "class_model = nn.Sequential(\n",
        "     # 1\n",
        "    nn.Conv1d(in_channels=1, out_channels=64, kernel_size=5, padding='same'),\n",
        "    nn.BatchNorm1d(64),\n",
        "    nn.ReLU(),\n",
        "    nn.MaxPool1d(kernel_size=2),\n",
        "\n",
        "    # 2\n",
        "    nn.Conv1d(64, 128, kernel_size=3, padding='same'),\n",
        "    nn.BatchNorm1d(128),\n",
        "    nn.ReLU(),\n",
        "    nn.MaxPool1d(kernel_size=2),\n",
        "\n",
        "    # 3\n",
        "    nn.Conv1d(128, 256, kernel_size=3, padding='same'),\n",
        "    nn.BatchNorm1d(256),\n",
        "    nn.ReLU(),\n",
        "    nn.MaxPool1d(kernel_size=2),\n",
        "\n",
        "    # 4\n",
        "    nn.Conv1d(256, 128, kernel_size=3, padding='same'),\n",
        "    nn.BatchNorm1d(128),\n",
        "    nn.ReLU(),\n",
        "    nn.MaxPool1d(kernel_size=2),\n",
        "\n",
        "    # 5\n",
        "    nn.Conv1d(128, 64, kernel_size=3, padding='same'),\n",
        "    nn.BatchNorm1d(64),\n",
        "    nn.ReLU(),\n",
        "    nn.MaxPool1d(kernel_size=2),\n",
        "\n",
        "    # Flatten + Dense layers\n",
        "    nn.Flatten(),\n",
        "    nn.Linear(320, 256),\n",
        "    nn.ReLU(),\n",
        "    nn.Dropout(0.5),\n",
        "    nn.Linear(256, 5)\n",
        ")\n",
        "\n",
        "class_model.to(device)\n",
        "print(class_model)"
      ],
      "metadata": {
        "colab": {
          "base_uri": "https://localhost:8080/"
        },
        "id": "HX5SEhlY7Sg9",
        "outputId": "d350b376-fba4-4b6b-dd1f-cdfdd45ef400"
      },
      "execution_count": null,
      "outputs": [
        {
          "output_type": "stream",
          "name": "stdout",
          "text": [
            "Sequential(\n",
            "  (0): Conv1d(1, 64, kernel_size=(5,), stride=(1,), padding=same)\n",
            "  (1): BatchNorm1d(64, eps=1e-05, momentum=0.1, affine=True, track_running_stats=True)\n",
            "  (2): ReLU()\n",
            "  (3): MaxPool1d(kernel_size=2, stride=2, padding=0, dilation=1, ceil_mode=False)\n",
            "  (4): Conv1d(64, 128, kernel_size=(3,), stride=(1,), padding=same)\n",
            "  (5): BatchNorm1d(128, eps=1e-05, momentum=0.1, affine=True, track_running_stats=True)\n",
            "  (6): ReLU()\n",
            "  (7): MaxPool1d(kernel_size=2, stride=2, padding=0, dilation=1, ceil_mode=False)\n",
            "  (8): Conv1d(128, 256, kernel_size=(3,), stride=(1,), padding=same)\n",
            "  (9): BatchNorm1d(256, eps=1e-05, momentum=0.1, affine=True, track_running_stats=True)\n",
            "  (10): ReLU()\n",
            "  (11): MaxPool1d(kernel_size=2, stride=2, padding=0, dilation=1, ceil_mode=False)\n",
            "  (12): Conv1d(256, 128, kernel_size=(3,), stride=(1,), padding=same)\n",
            "  (13): BatchNorm1d(128, eps=1e-05, momentum=0.1, affine=True, track_running_stats=True)\n",
            "  (14): ReLU()\n",
            "  (15): MaxPool1d(kernel_size=2, stride=2, padding=0, dilation=1, ceil_mode=False)\n",
            "  (16): Conv1d(128, 64, kernel_size=(3,), stride=(1,), padding=same)\n",
            "  (17): BatchNorm1d(64, eps=1e-05, momentum=0.1, affine=True, track_running_stats=True)\n",
            "  (18): ReLU()\n",
            "  (19): MaxPool1d(kernel_size=2, stride=2, padding=0, dilation=1, ceil_mode=False)\n",
            "  (20): Flatten(start_dim=1, end_dim=-1)\n",
            "  (21): Linear(in_features=320, out_features=256, bias=True)\n",
            "  (22): ReLU()\n",
            "  (23): Dropout(p=0.5, inplace=False)\n",
            "  (24): Linear(in_features=256, out_features=5, bias=True)\n",
            ")\n"
          ]
        }
      ]
    },
    {
      "cell_type": "code",
      "source": [
        "# Class Weights\n",
        "class_weights = compute_class_weight('balanced', classes=np.unique(y_train_pd), y=y_train_pd)\n",
        "class_weights = torch.tensor(class_weights, dtype=torch.float32).to(device)\n",
        "\n",
        "criterion = nn.CrossEntropyLoss(weight=class_weights)\n",
        "optimizer = torch.optim.Adam(class_model.parameters(), lr=0.001)"
      ],
      "metadata": {
        "id": "zOQifuxWDgp3"
      },
      "execution_count": null,
      "outputs": []
    },
    {
      "cell_type": "code",
      "source": [
        "EPOCHS = 50\n",
        "\n",
        "\n",
        "train_losses = []\n",
        "test_losses = []\n",
        "test_accuracies = []\n",
        "best_test_loss = float('inf')\n",
        "\n",
        "for epoch in range(EPOCHS):\n",
        "  # Training\n",
        "  class_model.train()\n",
        "  running_loss = 0.0\n",
        "  for inputs, labels in train_loader:\n",
        "    inputs, labels = inputs.to(device), labels.to(device)\n",
        "    optimizer.zero_grad()\n",
        "    outputs = class_model(inputs)\n",
        "    loss = criterion(outputs, labels)\n",
        "    loss.backward()\n",
        "    optimizer.step()\n",
        "    running_loss += loss.item()\n",
        "  train_losses.append(running_loss/len(train_loader))\n",
        "\n",
        "  # Validation\n",
        "  class_model.eval()\n",
        "  val_loss = 0.0\n",
        "  correct=0\n",
        "  total=0\n",
        "  with torch.no_grad():\n",
        "    for inputs, labels in test_loader:\n",
        "      inputs, labels = inputs.to(device), labels.to(device)\n",
        "      outputs = class_model(inputs)\n",
        "      loss = criterion(outputs, labels)\n",
        "      val_loss += loss.item()\n",
        "      _, predicted = torch.max(outputs.data, 1)\n",
        "      total += labels.size(0)\n",
        "      correct += (predicted == labels).sum().item()\n",
        "\n",
        "    current_val_loss = val_loss / len(test_loader)\n",
        "    test_losses.append(current_val_loss)\n",
        "    accuracy = 100 * correct / total\n",
        "    test_accuracies.append(accuracy)\n",
        "\n",
        "  print(f'Epoch {epoch+1}/{EPOCHS}, Train Loss: {train_losses[-1]:.4f}, Val Loss: {val_loss:.4f}, Test Accuracy: {accuracy:.2f}%')\n",
        "  if test_losses[-1] < best_test_loss:\n",
        "      best_test_loss = test_losses[-1]\n",
        "      torch.save(class_model.state_dict(), 'best_model.pth')\n",
        "\n",
        "print('Done')"
      ],
      "metadata": {
        "colab": {
          "base_uri": "https://localhost:8080/"
        },
        "id": "Q08ESPMqEZvj",
        "outputId": "a824629d-a80d-419f-efc5-e91a8fd53535"
      },
      "execution_count": null,
      "outputs": [
        {
          "output_type": "stream",
          "name": "stdout",
          "text": [
            "Epoch 1/50, Train Loss: 0.0021, Val Loss: 70.0246, Test Accuracy: 98.21%\n",
            "Epoch 2/50, Train Loss: 0.0036, Val Loss: 60.2946, Test Accuracy: 98.34%\n",
            "Epoch 3/50, Train Loss: 0.0021, Val Loss: 72.5421, Test Accuracy: 97.88%\n",
            "Epoch 4/50, Train Loss: 0.0028, Val Loss: 62.3305, Test Accuracy: 98.40%\n",
            "Epoch 5/50, Train Loss: 0.0028, Val Loss: 67.2255, Test Accuracy: 98.06%\n",
            "Epoch 6/50, Train Loss: 0.0026, Val Loss: 76.4927, Test Accuracy: 97.86%\n",
            "Epoch 7/50, Train Loss: 0.0025, Val Loss: 60.6769, Test Accuracy: 98.43%\n",
            "Epoch 8/50, Train Loss: 0.0034, Val Loss: 65.5532, Test Accuracy: 98.22%\n",
            "Epoch 9/50, Train Loss: 0.0029, Val Loss: 63.1217, Test Accuracy: 98.31%\n",
            "Epoch 10/50, Train Loss: 0.0025, Val Loss: 69.0197, Test Accuracy: 98.25%\n",
            "Epoch 11/50, Train Loss: 0.0026, Val Loss: 68.0042, Test Accuracy: 98.25%\n",
            "Epoch 12/50, Train Loss: 0.0036, Val Loss: 64.6101, Test Accuracy: 98.31%\n",
            "Epoch 13/50, Train Loss: 0.0024, Val Loss: 67.2944, Test Accuracy: 98.53%\n",
            "Epoch 14/50, Train Loss: 0.0026, Val Loss: 85.3135, Test Accuracy: 97.66%\n",
            "Epoch 15/50, Train Loss: 0.0035, Val Loss: 71.0303, Test Accuracy: 98.19%\n",
            "Epoch 16/50, Train Loss: 0.0022, Val Loss: 68.6116, Test Accuracy: 98.47%\n",
            "Epoch 17/50, Train Loss: 0.0030, Val Loss: 68.0040, Test Accuracy: 98.34%\n",
            "Epoch 18/50, Train Loss: 0.0027, Val Loss: 76.0392, Test Accuracy: 98.29%\n",
            "Epoch 19/50, Train Loss: 0.0027, Val Loss: 76.4165, Test Accuracy: 98.25%\n",
            "Epoch 20/50, Train Loss: 0.0032, Val Loss: 71.0247, Test Accuracy: 98.30%\n",
            "Epoch 21/50, Train Loss: 0.0028, Val Loss: 69.2318, Test Accuracy: 98.61%\n",
            "Epoch 22/50, Train Loss: 0.0021, Val Loss: 77.1547, Test Accuracy: 98.23%\n",
            "Epoch 23/50, Train Loss: 0.0028, Val Loss: 69.0489, Test Accuracy: 98.36%\n",
            "Epoch 24/50, Train Loss: 0.0026, Val Loss: 71.3731, Test Accuracy: 98.46%\n",
            "Epoch 25/50, Train Loss: 0.0019, Val Loss: 71.3187, Test Accuracy: 98.27%\n",
            "Epoch 26/50, Train Loss: 0.0027, Val Loss: 76.8544, Test Accuracy: 98.30%\n",
            "Epoch 27/50, Train Loss: 0.0030, Val Loss: 77.8294, Test Accuracy: 98.26%\n",
            "Epoch 28/50, Train Loss: 0.0021, Val Loss: 74.9382, Test Accuracy: 98.34%\n",
            "Epoch 29/50, Train Loss: 0.0029, Val Loss: 96.3728, Test Accuracy: 97.86%\n",
            "Epoch 30/50, Train Loss: 0.0018, Val Loss: 80.0915, Test Accuracy: 98.25%\n",
            "Epoch 31/50, Train Loss: 0.0023, Val Loss: 80.0413, Test Accuracy: 98.36%\n",
            "Epoch 32/50, Train Loss: 0.0020, Val Loss: 94.8480, Test Accuracy: 97.54%\n",
            "Epoch 33/50, Train Loss: 0.0020, Val Loss: 67.9805, Test Accuracy: 98.51%\n",
            "Epoch 34/50, Train Loss: 0.0022, Val Loss: 81.9190, Test Accuracy: 98.02%\n",
            "Epoch 35/50, Train Loss: 0.0025, Val Loss: 79.2762, Test Accuracy: 98.43%\n",
            "Epoch 36/50, Train Loss: 0.0026, Val Loss: 69.0640, Test Accuracy: 98.31%\n",
            "Epoch 37/50, Train Loss: 0.0031, Val Loss: 69.5141, Test Accuracy: 98.44%\n",
            "Epoch 38/50, Train Loss: 0.0017, Val Loss: 68.4344, Test Accuracy: 98.51%\n",
            "Epoch 39/50, Train Loss: 0.0022, Val Loss: 81.0123, Test Accuracy: 97.99%\n",
            "Epoch 40/50, Train Loss: 0.0018, Val Loss: 79.8096, Test Accuracy: 98.17%\n",
            "Epoch 41/50, Train Loss: 0.0028, Val Loss: 78.9657, Test Accuracy: 98.25%\n",
            "Epoch 42/50, Train Loss: 0.0013, Val Loss: 88.4682, Test Accuracy: 98.00%\n",
            "Epoch 43/50, Train Loss: 0.0018, Val Loss: 86.3912, Test Accuracy: 98.30%\n",
            "Epoch 44/50, Train Loss: 0.0026, Val Loss: 90.3054, Test Accuracy: 98.23%\n",
            "Epoch 45/50, Train Loss: 0.0020, Val Loss: 90.3103, Test Accuracy: 98.33%\n",
            "Epoch 46/50, Train Loss: 0.0027, Val Loss: 87.0580, Test Accuracy: 98.37%\n",
            "Epoch 47/50, Train Loss: 0.0016, Val Loss: 91.0815, Test Accuracy: 98.32%\n",
            "Epoch 48/50, Train Loss: 0.0013, Val Loss: 91.4661, Test Accuracy: 98.49%\n",
            "Epoch 49/50, Train Loss: 0.0033, Val Loss: 83.2393, Test Accuracy: 98.27%\n",
            "Epoch 50/50, Train Loss: 0.0005, Val Loss: 107.6739, Test Accuracy: 97.94%\n",
            "Done\n"
          ]
        }
      ]
    },
    {
      "cell_type": "code",
      "source": [
        "# Load the best model weights\n",
        "class_model.load_state_dict(torch.load('best_model.pth'))\n",
        "class_model.eval()\n",
        "\n",
        "y_true = []\n",
        "y_pred = []\n",
        "\n",
        "with torch.no_grad():\n",
        "    for inputs, labels in test_loader:\n",
        "        inputs, labels = inputs.to(device), labels.to(device)\n",
        "        outputs = class_model(inputs)\n",
        "        _, predicted = torch.max(outputs.data, 1)\n",
        "        y_true.extend(labels.cpu().numpy())\n",
        "        y_pred.extend(predicted.cpu().numpy())\n",
        "\n",
        "# --- Classification Report ---\n",
        "print(\"\\n--- Final Classification Report ---\")\n",
        "print(classification_report(y_true, y_pred))\n",
        "\n",
        "# --- Confusion Matrix ---\n",
        "cm = confusion_matrix(y_true, y_pred)\n",
        "plt.figure(figsize=(10, 8))\n",
        "sns.heatmap(cm, annot=True, fmt='d', cmap='Blues')\n",
        "plt.title('Confusion Matrix')\n",
        "plt.xlabel('Predicted Label')\n",
        "plt.ylabel('True Label')\n",
        "plt.show()"
      ],
      "metadata": {
        "id": "9ihlqLFIFKEP",
        "colab": {
          "base_uri": "https://localhost:8080/",
          "height": 956
        },
        "outputId": "7a6428b3-7f41-4a13-9d91-d16d74eea13c"
      },
      "execution_count": null,
      "outputs": [
        {
          "output_type": "stream",
          "name": "stdout",
          "text": [
            "\n",
            "--- Final Classification Report ---\n",
            "              precision    recall  f1-score   support\n",
            "\n",
            "           0       0.99      0.99      0.99     18117\n",
            "           1       0.77      0.87      0.82       556\n",
            "           2       0.97      0.95      0.96      1448\n",
            "           3       0.78      0.86      0.82       162\n",
            "           4       0.99      0.99      0.99      1608\n",
            "\n",
            "    accuracy                           0.98     21891\n",
            "   macro avg       0.90      0.93      0.92     21891\n",
            "weighted avg       0.98      0.98      0.98     21891\n",
            "\n"
          ]
        },
        {
          "output_type": "display_data",
          "data": {
            "text/plain": [
              "<Figure size 1000x800 with 2 Axes>"
            ],
            "image/png": "[encoded data removed]"
          },
          "metadata": {}
        }
      ]
    }
  ]
}