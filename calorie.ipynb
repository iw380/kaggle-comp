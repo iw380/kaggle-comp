{
  "metadata": {
    "kernelspec": {
      "display_name": "Python 3",
      "name": "python3"
    },
    "language_info": {
      "name": "python",
      "version": "3.11.11",
      "mimetype": "text/x-python",
      "codemirror_mode": {
        "name": "ipython",
        "version": 3
      },
      "pygments_lexer": "ipython3",
      "nbconvert_exporter": "python",
      "file_extension": ".py"
    },
    "kaggle": {
      "accelerator": "none",
      "dataSources": [],
      "dockerImageVersionId": 31040,
      "isInternetEnabled": false,
      "language": "python",
      "sourceType": "notebook",
      "isGpuEnabled": false
    },
    "colab": {
      "name": "notebook6463cb0729",
      "provenance": [],
      "gpuType": "T4"
    },
    "accelerator": "GPU"
  },
  "nbformat_minor": 0,
  "nbformat": 4,
  "cells": [
    {
      "cell_type": "code",
      "source": [
        "# This Python 3 environment comes with many helpful analytics libraries installed\n",
        "# It is defined by the kaggle/python Docker image: https://github.com/kaggle/docker-python\n",
        "# For example, here's several helpful packages to load\n",
        "\n",
        "import numpy as np # linear algebra\n",
        "import pandas as pd # data processing, CSV file I/O (e.g. pd.read_csv)\n",
        "import matplotlib.pyplot as plt\n",
        "import seaborn as sns\n",
        "\n",
        "# Input data files are available in the read-only \"../input/\" directory\n",
        "# For example, running this (by clicking run or pressing Shift+Enter) will list all files under the input directory\n",
        "\n",
        "import os\n",
        "for dirname, _, filenames in os.walk('/kaggle/input'):\n",
        "    for filename in filenames:\n",
        "        print(os.path.join(dirname, filename))\n",
        "\n",
        "# You can write up to 20GB to the current directory (/kaggle/working/) that gets preserved as output when you create a version using \"Save & Run All\"\n",
        "# You can also write temporary files to /kaggle/temp/, but they won't be saved outside of the current session"
      ],
      "metadata": {
        "_uuid": "8f2839f25d086af736a60e9eeb907d3b93b6e0e5",
        "_cell_guid": "b1076dfc-b9ad-4769-8c92-a6c4dae69d19",
        "trusted": true,
        "id": "DLjGhpLwHW4G"
      },
      "outputs": [],
      "execution_count": 1
    },
    {
      "cell_type": "code",
      "source": [
        "from google.colab import files\n",
        "\n",
        "# This will prompt you to upload the kaggle.json file\n",
        "files.upload()\n",
        "\n",
        "!mkdir -p ~/.kaggle\n",
        "!cp kaggle.json ~/.kaggle/\n",
        "!chmod 600 ~/.kaggle/kaggle.json"
      ],
      "metadata": {
        "trusted": true,
        "execution": {
          "iopub.status.busy": "2025-05-18T23:45:36.953006Z",
          "iopub.execute_input": "2025-05-18T23:45:36.953192Z",
          "iopub.status.idle": "2025-05-18T23:45:36.960329Z",
          "shell.execute_reply.started": "2025-05-18T23:45:36.953174Z",
          "shell.execute_reply": "2025-05-18T23:45:36.959334Z"
        },
        "id": "9-jKaZvWHW4H",
        "outputId": "d04f08e6-56c5-4b66-b5ea-c49716728bdc",
        "colab": {
          "base_uri": "https://localhost:8080/",
          "height": 69
        }
      },
      "outputs": [
        {
          "output_type": "display_data",
          "data": {
            "text/plain": [
              "<IPython.core.display.HTML object>"
            ],
            "text/html": [
              "\n",
              "     <input type=\"file\" id=\"files-115e99a1-2059-4803-a6a0-23aa7ca521c3\" name=\"files[]\" multiple disabled\n",
              "        style=\"border:none\" />\n",
              "     <output id=\"result-115e99a1-2059-4803-a6a0-23aa7ca521c3\">\n",
              "      Upload widget is only available when the cell has been executed in the\n",
              "      current browser session. Please rerun this cell to enable.\n",
              "      </output>\n",
              "      <script>// Copyright 2017 Google LLC\n",
              "//\n",
              "// Licensed under the Apache License, Version 2.0 (the \"License\");\n",
              "// you may not use this file except in compliance with the License.\n",
              "// You may obtain a copy of the License at\n",
              "//\n",
              "//      http://www.apache.org/licenses/LICENSE-2.0\n",
              "//\n",
              "// Unless required by applicable law or agreed to in writing, software\n",
              "// distributed under the License is distributed on an \"AS IS\" BASIS,\n",
              "// WITHOUT WARRANTIES OR CONDITIONS OF ANY KIND, either express or implied.\n",
              "// See the License for the specific language governing permissions and\n",
              "// limitations under the License.\n",
              "\n",
              "/**\n",
              " * @fileoverview Helpers for google.colab Python module.\n",
              " */\n",
              "(function(scope) {\n",
              "function span(text, styleAttributes = {}) {\n",
              "  const element = document.createElement('span');\n",
              "  element.textContent = text;\n",
              "  for (const key of Object.keys(styleAttributes)) {\n",
              "    element.style[key] = styleAttributes[key];\n",
              "  }\n",
              "  return element;\n",
              "}\n",
              "\n",
              "// Max number of bytes which will be uploaded at a time.\n",
              "const MAX_PAYLOAD_SIZE = 100 * 1024;\n",
              "\n",
              "function _uploadFiles(inputId, outputId) {\n",
              "  const steps = uploadFilesStep(inputId, outputId);\n",
              "  const outputElement = document.getElementById(outputId);\n",
              "  // Cache steps on the outputElement to make it available for the next call\n",
              "  // to uploadFilesContinue from Python.\n",
              "  outputElement.steps = steps;\n",
              "\n",
              "  return _uploadFilesContinue(outputId);\n",
              "}\n",
              "\n",
              "// This is roughly an async generator (not supported in the browser yet),\n",
              "// where there are multiple asynchronous steps and the Python side is going\n",
              "// to poll for completion of each step.\n",
              "// This uses a Promise to block the python side on completion of each step,\n",
              "// then passes the result of the previous step as the input to the next step.\n",
              "function _uploadFilesContinue(outputId) {\n",
              "  const outputElement = document.getElementById(outputId);\n",
              "  const steps = outputElement.steps;\n",
              "\n",
              "  const next = steps.next(outputElement.lastPromiseValue);\n",
              "  return Promise.resolve(next.value.promise).then((value) => {\n",
              "    // Cache the last promise value to make it available to the next\n",
              "    // step of the generator.\n",
              "    outputElement.lastPromiseValue = value;\n",
              "    return next.value.response;\n",
              "  });\n",
              "}\n",
              "\n",
              "/**\n",
              " * Generator function which is called between each async step of the upload\n",
              " * process.\n",
              " * @param {string} inputId Element ID of the input file picker element.\n",
              " * @param {string} outputId Element ID of the output display.\n",
              " * @return {!Iterable<!Object>} Iterable of next steps.\n",
              " */\n",
              "function* uploadFilesStep(inputId, outputId) {\n",
              "  const inputElement = document.getElementById(inputId);\n",
              "  inputElement.disabled = false;\n",
              "\n",
              "  const outputElement = document.getElementById(outputId);\n",
              "  outputElement.innerHTML = '';\n",
              "\n",
              "  const pickedPromise = new Promise((resolve) => {\n",
              "    inputElement.addEventListener('change', (e) => {\n",
              "      resolve(e.target.files);\n",
              "    });\n",
              "  });\n",
              "\n",
              "  const cancel = document.createElement('button');\n",
              "  inputElement.parentElement.appendChild(cancel);\n",
              "  cancel.textContent = 'Cancel upload';\n",
              "  const cancelPromise = new Promise((resolve) => {\n",
              "    cancel.onclick = () => {\n",
              "      resolve(null);\n",
              "    };\n",
              "  });\n",
              "\n",
              "  // Wait for the user to pick the files.\n",
              "  const files = yield {\n",
              "    promise: Promise.race([pickedPromise, cancelPromise]),\n",
              "    response: {\n",
              "      action: 'starting',\n",
              "    }\n",
              "  };\n",
              "\n",
              "  cancel.remove();\n",
              "\n",
              "  // Disable the input element since further picks are not allowed.\n",
              "  inputElement.disabled = true;\n",
              "\n",
              "  if (!files) {\n",
              "    return {\n",
              "      response: {\n",
              "        action: 'complete',\n",
              "      }\n",
              "    };\n",
              "  }\n",
              "\n",
              "  for (const file of files) {\n",
              "    const li = document.createElement('li');\n",
              "    li.append(span(file.name, {fontWeight: 'bold'}));\n",
              "    li.append(span(\n",
              "        `(${file.type || 'n/a'}) - ${file.size} bytes, ` +\n",
              "        `last modified: ${\n",
              "            file.lastModifiedDate ? file.lastModifiedDate.toLocaleDateString() :\n",
              "                                    'n/a'} - `));\n",
              "    const percent = span('0% done');\n",
              "    li.appendChild(percent);\n",
              "\n",
              "    outputElement.appendChild(li);\n",
              "\n",
              "    const fileDataPromise = new Promise((resolve) => {\n",
              "      const reader = new FileReader();\n",
              "      reader.onload = (e) => {\n",
              "        resolve(e.target.result);\n",
              "      };\n",
              "      reader.readAsArrayBuffer(file);\n",
              "    });\n",
              "    // Wait for the data to be ready.\n",
              "    let fileData = yield {\n",
              "      promise: fileDataPromise,\n",
              "      response: {\n",
              "        action: 'continue',\n",
              "      }\n",
              "    };\n",
              "\n",
              "    // Use a chunked sending to avoid message size limits. See b/62115660.\n",
              "    let position = 0;\n",
              "    do {\n",
              "      const length = Math.min(fileData.byteLength - position, MAX_PAYLOAD_SIZE);\n",
              "      const chunk = new Uint8Array(fileData, position, length);\n",
              "      position += length;\n",
              "\n",
              "      const base64 = btoa(String.fromCharCode.apply(null, chunk));\n",
              "      yield {\n",
              "        response: {\n",
              "          action: 'append',\n",
              "          file: file.name,\n",
              "          data: base64,\n",
              "        },\n",
              "      };\n",
              "\n",
              "      let percentDone = fileData.byteLength === 0 ?\n",
              "          100 :\n",
              "          Math.round((position / fileData.byteLength) * 100);\n",
              "      percent.textContent = `${percentDone}% done`;\n",
              "\n",
              "    } while (position < fileData.byteLength);\n",
              "  }\n",
              "\n",
              "  // All done.\n",
              "  yield {\n",
              "    response: {\n",
              "      action: 'complete',\n",
              "    }\n",
              "  };\n",
              "}\n",
              "\n",
              "scope.google = scope.google || {};\n",
              "scope.google.colab = scope.google.colab || {};\n",
              "scope.google.colab._files = {\n",
              "  _uploadFiles,\n",
              "  _uploadFilesContinue,\n",
              "};\n",
              "})(self);\n",
              "</script> "
            ]
          },
          "metadata": {}
        },
        {
          "output_type": "stream",
          "name": "stdout",
          "text": [
            "Saving kaggle.json to kaggle.json\n"
          ]
        }
      ],
      "execution_count": 2
    },
    {
      "cell_type": "code",
      "source": [
        "!kaggle competitions download -c playground-series-s5e5\n",
        "!unzip playground-series-s5e5.zip -d ./data\n",
        "!ls ./data"
      ],
      "metadata": {
        "id": "1x1fKhdsM8WD",
        "outputId": "b7aba148-9d92-48b2-fe79-f75380811018",
        "colab": {
          "base_uri": "https://localhost:8080/"
        }
      },
      "execution_count": 3,
      "outputs": [
        {
          "output_type": "stream",
          "name": "stdout",
          "text": [
            "Downloading playground-series-s5e5.zip to /content\n",
            "\r  0% 0.00/12.5M [00:00<?, ?B/s]\n",
            "\r100% 12.5M/12.5M [00:00<00:00, 676MB/s]\n",
            "Archive:  playground-series-s5e5.zip\n",
            "  inflating: ./data/sample_submission.csv  \n",
            "  inflating: ./data/test.csv         \n",
            "  inflating: ./data/train.csv        \n",
            "sample_submission.csv  test.csv  train.csv\n"
          ]
        }
      ]
    },
    {
      "cell_type": "code",
      "source": [
        "train_df = pd.read_csv('./data/train.csv')\n",
        "test_df = pd.read_csv('./data/test.csv')\n",
        "train_df.describe()\n",
        "train_df.head()"
      ],
      "metadata": {
        "id": "BgeJa-QVNMW6",
        "outputId": "ab9a3a13-1200-44fc-c9cf-183281d35c80",
        "colab": {
          "base_uri": "https://localhost:8080/",
          "height": 204
        }
      },
      "execution_count": 4,
      "outputs": [
        {
          "output_type": "execute_result",
          "data": {
            "text/plain": [
              "   id     Sex  Age  Height  Weight  Duration  Heart_Rate  Body_Temp  Calories\n",
              "0   0    male   36   189.0    82.0      26.0       101.0       41.0     150.0\n",
              "1   1  female   64   163.0    60.0       8.0        85.0       39.7      34.0\n",
              "2   2  female   51   161.0    64.0       7.0        84.0       39.8      29.0\n",
              "3   3    male   20   192.0    90.0      25.0       105.0       40.7     140.0\n",
              "4   4  female   38   166.0    61.0      25.0       102.0       40.6     146.0"
            ],
            "text/html": [
              "\n",
              "  <div id=\"df-bf90fbf0-cf86-4f02-a42f-43dc41bf8388\" class=\"colab-df-container\">\n",
              "    <div>\n",
              "<style scoped>\n",
              "    .dataframe tbody tr th:only-of-type {\n",
              "        vertical-align: middle;\n",
              "    }\n",
              "\n",
              "    .dataframe tbody tr th {\n",
              "        vertical-align: top;\n",
              "    }\n",
              "\n",
              "    .dataframe thead th {\n",
              "        text-align: right;\n",
              "    }\n",
              "</style>\n",
              "<table border=\"1\" class=\"dataframe\">\n",
              "  <thead>\n",
              "    <tr style=\"text-align: right;\">\n",
              "      <th></th>\n",
              "      <th>id</th>\n",
              "      <th>Sex</th>\n",
              "      <th>Age</th>\n",
              "      <th>Height</th>\n",
              "      <th>Weight</th>\n",
              "      <th>Duration</th>\n",
              "      <th>Heart_Rate</th>\n",
              "      <th>Body_Temp</th>\n",
              "      <th>Calories</th>\n",
              "    </tr>\n",
              "  </thead>\n",
              "  <tbody>\n",
              "    <tr>\n",
              "      <th>0</th>\n",
              "      <td>0</td>\n",
              "      <td>male</td>\n",
              "      <td>36</td>\n",
              "      <td>189.0</td>\n",
              "      <td>82.0</td>\n",
              "      <td>26.0</td>\n",
              "      <td>101.0</td>\n",
              "      <td>41.0</td>\n",
              "      <td>150.0</td>\n",
              "    </tr>\n",
              "    <tr>\n",
              "      <th>1</th>\n",
              "      <td>1</td>\n",
              "      <td>female</td>\n",
              "      <td>64</td>\n",
              "      <td>163.0</td>\n",
              "      <td>60.0</td>\n",
              "      <td>8.0</td>\n",
              "      <td>85.0</td>\n",
              "      <td>39.7</td>\n",
              "      <td>34.0</td>\n",
              "    </tr>\n",
              "    <tr>\n",
              "      <th>2</th>\n",
              "      <td>2</td>\n",
              "      <td>female</td>\n",
              "      <td>51</td>\n",
              "      <td>161.0</td>\n",
              "      <td>64.0</td>\n",
              "      <td>7.0</td>\n",
              "      <td>84.0</td>\n",
              "      <td>39.8</td>\n",
              "      <td>29.0</td>\n",
              "    </tr>\n",
              "    <tr>\n",
              "      <th>3</th>\n",
              "      <td>3</td>\n",
              "      <td>male</td>\n",
              "      <td>20</td>\n",
              "      <td>192.0</td>\n",
              "      <td>90.0</td>\n",
              "      <td>25.0</td>\n",
              "      <td>105.0</td>\n",
              "      <td>40.7</td>\n",
              "      <td>140.0</td>\n",
              "    </tr>\n",
              "    <tr>\n",
              "      <th>4</th>\n",
              "      <td>4</td>\n",
              "      <td>female</td>\n",
              "      <td>38</td>\n",
              "      <td>166.0</td>\n",
              "      <td>61.0</td>\n",
              "      <td>25.0</td>\n",
              "      <td>102.0</td>\n",
              "      <td>40.6</td>\n",
              "      <td>146.0</td>\n",
              "    </tr>\n",
              "  </tbody>\n",
              "</table>\n",
              "</div>\n",
              "    <div class=\"colab-df-buttons\">\n",
              "\n",
              "  <div class=\"colab-df-container\">\n",
              "    <button class=\"colab-df-convert\" onclick=\"convertToInteractive('df-bf90fbf0-cf86-4f02-a42f-43dc41bf8388')\"\n",
              "            title=\"Convert this dataframe to an interactive table.\"\n",
              "            style=\"display:none;\">\n",
              "\n",
              "  <svg xmlns=\"http://www.w3.org/2000/svg\" height=\"24px\" viewBox=\"0 -960 960 960\">\n",
              "    <path d=\"M120-120v-720h720v720H120Zm60-500h600v-160H180v160Zm220 220h160v-160H400v160Zm0 220h160v-160H400v160ZM180-400h160v-160H180v160Zm440 0h160v-160H620v160ZM180-180h160v-160H180v160Zm440 0h160v-160H620v160Z\"/>\n",
              "  </svg>\n",
              "    </button>\n",
              "\n",
              "  <style>\n",
              "    .colab-df-container {\n",
              "      display:flex;\n",
              "      gap: 12px;\n",
              "    }\n",
              "\n",
              "    .colab-df-convert {\n",
              "      background-color: #E8F0FE;\n",
              "      border: none;\n",
              "      border-radius: 50%;\n",
              "      cursor: pointer;\n",
              "      display: none;\n",
              "      fill: #1967D2;\n",
              "      height: 32px;\n",
              "      padding: 0 0 0 0;\n",
              "      width: 32px;\n",
              "    }\n",
              "\n",
              "    .colab-df-convert:hover {\n",
              "      background-color: #E2EBFA;\n",
              "      box-shadow: 0px 1px 2px rgba(60, 64, 67, 0.3), 0px 1px 3px 1px rgba(60, 64, 67, 0.15);\n",
              "      fill: #174EA6;\n",
              "    }\n",
              "\n",
              "    .colab-df-buttons div {\n",
              "      margin-bottom: 4px;\n",
              "    }\n",
              "\n",
              "    [theme=dark] .colab-df-convert {\n",
              "      background-color: #3B4455;\n",
              "      fill: #D2E3FC;\n",
              "    }\n",
              "\n",
              "    [theme=dark] .colab-df-convert:hover {\n",
              "      background-color: #434B5C;\n",
              "      box-shadow: 0px 1px 3px 1px rgba(0, 0, 0, 0.15);\n",
              "      filter: drop-shadow(0px 1px 2px rgba(0, 0, 0, 0.3));\n",
              "      fill: #FFFFFF;\n",
              "    }\n",
              "  </style>\n",
              "\n",
              "    <script>\n",
              "      const buttonEl =\n",
              "        document.querySelector('#df-bf90fbf0-cf86-4f02-a42f-43dc41bf8388 button.colab-df-convert');\n",
              "      buttonEl.style.display =\n",
              "        google.colab.kernel.accessAllowed ? 'block' : 'none';\n",
              "\n",
              "      async function convertToInteractive(key) {\n",
              "        const element = document.querySelector('#df-bf90fbf0-cf86-4f02-a42f-43dc41bf8388');\n",
              "        const dataTable =\n",
              "          await google.colab.kernel.invokeFunction('convertToInteractive',\n",
              "                                                    [key], {});\n",
              "        if (!dataTable) return;\n",
              "\n",
              "        const docLinkHtml = 'Like what you see? Visit the ' +\n",
              "          '<a target=\"_blank\" href=https://colab.research.google.com/notebooks/data_table.ipynb>data table notebook</a>'\n",
              "          + ' to learn more about interactive tables.';\n",
              "        element.innerHTML = '';\n",
              "        dataTable['output_type'] = 'display_data';\n",
              "        await google.colab.output.renderOutput(dataTable, element);\n",
              "        const docLink = document.createElement('div');\n",
              "        docLink.innerHTML = docLinkHtml;\n",
              "        element.appendChild(docLink);\n",
              "      }\n",
              "    </script>\n",
              "  </div>\n",
              "\n",
              "\n",
              "    <div id=\"df-8f6546f5-4eeb-40a0-bc8c-1ffa5867a0ff\">\n",
              "      <button class=\"colab-df-quickchart\" onclick=\"quickchart('df-8f6546f5-4eeb-40a0-bc8c-1ffa5867a0ff')\"\n",
              "                title=\"Suggest charts\"\n",
              "                style=\"display:none;\">\n",
              "\n",
              "<svg xmlns=\"http://www.w3.org/2000/svg\" height=\"24px\"viewBox=\"0 0 24 24\"\n",
              "     width=\"24px\">\n",
              "    <g>\n",
              "        <path d=\"M19 3H5c-1.1 0-2 .9-2 2v14c0 1.1.9 2 2 2h14c1.1 0 2-.9 2-2V5c0-1.1-.9-2-2-2zM9 17H7v-7h2v7zm4 0h-2V7h2v10zm4 0h-2v-4h2v4z\"/>\n",
              "    </g>\n",
              "</svg>\n",
              "      </button>\n",
              "\n",
              "<style>\n",
              "  .colab-df-quickchart {\n",
              "      --bg-color: #E8F0FE;\n",
              "      --fill-color: #1967D2;\n",
              "      --hover-bg-color: #E2EBFA;\n",
              "      --hover-fill-color: #174EA6;\n",
              "      --disabled-fill-color: #AAA;\n",
              "      --disabled-bg-color: #DDD;\n",
              "  }\n",
              "\n",
              "  [theme=dark] .colab-df-quickchart {\n",
              "      --bg-color: #3B4455;\n",
              "      --fill-color: #D2E3FC;\n",
              "      --hover-bg-color: #434B5C;\n",
              "      --hover-fill-color: #FFFFFF;\n",
              "      --disabled-bg-color: #3B4455;\n",
              "      --disabled-fill-color: #666;\n",
              "  }\n",
              "\n",
              "  .colab-df-quickchart {\n",
              "    background-color: var(--bg-color);\n",
              "    border: none;\n",
              "    border-radius: 50%;\n",
              "    cursor: pointer;\n",
              "    display: none;\n",
              "    fill: var(--fill-color);\n",
              "    height: 32px;\n",
              "    padding: 0;\n",
              "    width: 32px;\n",
              "  }\n",
              "\n",
              "  .colab-df-quickchart:hover {\n",
              "    background-color: var(--hover-bg-color);\n",
              "    box-shadow: 0 1px 2px rgba(60, 64, 67, 0.3), 0 1px 3px 1px rgba(60, 64, 67, 0.15);\n",
              "    fill: var(--button-hover-fill-color);\n",
              "  }\n",
              "\n",
              "  .colab-df-quickchart-complete:disabled,\n",
              "  .colab-df-quickchart-complete:disabled:hover {\n",
              "    background-color: var(--disabled-bg-color);\n",
              "    fill: var(--disabled-fill-color);\n",
              "    box-shadow: none;\n",
              "  }\n",
              "\n",
              "  .colab-df-spinner {\n",
              "    border: 2px solid var(--fill-color);\n",
              "    border-color: transparent;\n",
              "    border-bottom-color: var(--fill-color);\n",
              "    animation:\n",
              "      spin 1s steps(1) infinite;\n",
              "  }\n",
              "\n",
              "  @keyframes spin {\n",
              "    0% {\n",
              "      border-color: transparent;\n",
              "      border-bottom-color: var(--fill-color);\n",
              "      border-left-color: var(--fill-color);\n",
              "    }\n",
              "    20% {\n",
              "      border-color: transparent;\n",
              "      border-left-color: var(--fill-color);\n",
              "      border-top-color: var(--fill-color);\n",
              "    }\n",
              "    30% {\n",
              "      border-color: transparent;\n",
              "      border-left-color: var(--fill-color);\n",
              "      border-top-color: var(--fill-color);\n",
              "      border-right-color: var(--fill-color);\n",
              "    }\n",
              "    40% {\n",
              "      border-color: transparent;\n",
              "      border-right-color: var(--fill-color);\n",
              "      border-top-color: var(--fill-color);\n",
              "    }\n",
              "    60% {\n",
              "      border-color: transparent;\n",
              "      border-right-color: var(--fill-color);\n",
              "    }\n",
              "    80% {\n",
              "      border-color: transparent;\n",
              "      border-right-color: var(--fill-color);\n",
              "      border-bottom-color: var(--fill-color);\n",
              "    }\n",
              "    90% {\n",
              "      border-color: transparent;\n",
              "      border-bottom-color: var(--fill-color);\n",
              "    }\n",
              "  }\n",
              "</style>\n",
              "\n",
              "      <script>\n",
              "        async function quickchart(key) {\n",
              "          const quickchartButtonEl =\n",
              "            document.querySelector('#' + key + ' button');\n",
              "          quickchartButtonEl.disabled = true;  // To prevent multiple clicks.\n",
              "          quickchartButtonEl.classList.add('colab-df-spinner');\n",
              "          try {\n",
              "            const charts = await google.colab.kernel.invokeFunction(\n",
              "                'suggestCharts', [key], {});\n",
              "          } catch (error) {\n",
              "            console.error('Error during call to suggestCharts:', error);\n",
              "          }\n",
              "          quickchartButtonEl.classList.remove('colab-df-spinner');\n",
              "          quickchartButtonEl.classList.add('colab-df-quickchart-complete');\n",
              "        }\n",
              "        (() => {\n",
              "          let quickchartButtonEl =\n",
              "            document.querySelector('#df-8f6546f5-4eeb-40a0-bc8c-1ffa5867a0ff button');\n",
              "          quickchartButtonEl.style.display =\n",
              "            google.colab.kernel.accessAllowed ? 'block' : 'none';\n",
              "        })();\n",
              "      </script>\n",
              "    </div>\n",
              "\n",
              "    </div>\n",
              "  </div>\n"
            ],
            "application/vnd.google.colaboratory.intrinsic+json": {
              "type": "dataframe",
              "variable_name": "train_df"
            }
          },
          "metadata": {},
          "execution_count": 4
        }
      ]
    },
    {
      "cell_type": "code",
      "source": [
        "sns.histplot(train_df['Calories'],kde=True)"
      ],
      "metadata": {
        "id": "k85D48riUkSt",
        "outputId": "09feebb0-6f3e-4393-d923-1c64478dd37a",
        "colab": {
          "base_uri": "https://localhost:8080/",
          "height": 466
        }
      },
      "execution_count": 5,
      "outputs": [
        {
          "output_type": "execute_result",
          "data": {
            "text/plain": [
              "<Axes: xlabel='Calories', ylabel='Count'>"
            ]
          },
          "metadata": {},
          "execution_count": 5
        },
        {
          "output_type": "display_data",
          "data": {
            "text/plain": [
              "<Figure size 640x480 with 1 Axes>"
            ],
            "image/png": "[encoded data removed]"
          },
          "metadata": {}
        }
      ]
    },
    {
      "cell_type": "code",
      "source": [
        "''' train_df['Sex'].replace({'female': 0, 'male':1}, inplace=True)\n",
        "test_df['Sex'].replace({'female': 0, 'male':1}, inplace=True)\n",
        "train_df.head()'''"
      ],
      "metadata": {
        "id": "tF7k2eW-YQ23",
        "outputId": "1b65e7da-e248-411b-f6d4-7d2ace409213",
        "colab": {
          "base_uri": "https://localhost:8080/",
          "height": 35
        }
      },
      "execution_count": 6,
      "outputs": [
        {
          "output_type": "execute_result",
          "data": {
            "text/plain": [
              "\" train_df['Sex'].replace({'female': 0, 'male':1}, inplace=True)\\ntest_df['Sex'].replace({'female': 0, 'male':1}, inplace=True)\\ntrain_df.head()\""
            ],
            "application/vnd.google.colaboratory.intrinsic+json": {
              "type": "string"
            }
          },
          "metadata": {},
          "execution_count": 6
        }
      ]
    },
    {
      "cell_type": "code",
      "source": [
        "features = [col for col in train_df.columns if col not in ['Sex','id', 'Calories']]\n",
        "num_features = len(features)\n",
        "features_for_map = features.copy()\n",
        "features_for_map.append('Calories')\n",
        "correlation_map = train_df[features_for_map].corr()\n",
        "\n",
        "sns.heatmap(correlation_map, cmap='coolwarm', annot=True,fmt='.2f')\n",
        "plt.show()"
      ],
      "metadata": {
        "id": "3Ri08z-WZ_EC",
        "outputId": "1b667894-e313-4bb0-f343-00a2c86fa378",
        "colab": {
          "base_uri": "https://localhost:8080/",
          "height": 501
        }
      },
      "execution_count": 7,
      "outputs": [
        {
          "output_type": "display_data",
          "data": {
            "text/plain": [
              "<Figure size 640x480 with 2 Axes>"
            ],
            "image/png": "[encoded data removed]"
          },
          "metadata": {}
        }
      ]
    },
    {
      "cell_type": "code",
      "source": [
        "import lightgbm as lgb\n",
        "from sklearn.model_selection import train_test_split"
      ],
      "metadata": {
        "id": "Iq1cRf7vmHc3"
      },
      "execution_count": 8,
      "outputs": []
    },
    {
      "cell_type": "code",
      "source": [
        "train_df.drop(['id'],axis=1, inplace=True)\n",
        "test_df.drop(['id'],axis=1, inplace=True)"
      ],
      "metadata": {
        "id": "WJcyIQ05mdbg"
      },
      "execution_count": 9,
      "outputs": []
    },
    {
      "cell_type": "code",
      "source": [
        "X = train_df.drop(['Calories'],axis=1)\n",
        "y = train_df['Calories']\n",
        "\n",
        "X = pd.get_dummies(X, columns=['Sex'])\n",
        "\n",
        "X_train, X_test, y_train, y_test = train_test_split(X,y,test_size=0.2,random_state=42)"
      ],
      "metadata": {
        "id": "cQFgUoUkmooI"
      },
      "execution_count": 10,
      "outputs": []
    },
    {
      "cell_type": "code",
      "source": [
        "X_train.shape, X_test.shape, y_train.shape, y_test.shape"
      ],
      "metadata": {
        "colab": {
          "base_uri": "https://localhost:8080/"
        },
        "id": "o8jxzuo45-80",
        "outputId": "67e6dae1-52a9-4384-8b27-b6f88d29400a"
      },
      "execution_count": 11,
      "outputs": [
        {
          "output_type": "execute_result",
          "data": {
            "text/plain": [
              "((600000, 8), (150000, 8), (600000,), (150000,))"
            ]
          },
          "metadata": {},
          "execution_count": 11
        }
      ]
    },
    {
      "cell_type": "code",
      "source": [
        "import lightgbm as lgb\n",
        "from sklearn.model_selection import train_test_split, KFold, cross_val_score\n",
        "from sklearn.model_selection import RandomizedSearchCV"
      ],
      "metadata": {
        "id": "55XRVrDc7f0n"
      },
      "execution_count": 12,
      "outputs": []
    },
    {
      "cell_type": "code",
      "source": [
        "train_data = lgb.Dataset(X_train, label=y_train)\n",
        "test_data = lgb.Dataset(X_test, label=y_test)"
      ],
      "metadata": {
        "id": "pr1kUzSb8EBj"
      },
      "execution_count": 13,
      "outputs": []
    },
    {
      "cell_type": "code",
      "source": [
        "!pip install optuna-integration[lightgbm]"
      ],
      "metadata": {
        "id": "_F4HG9If8MFd",
        "outputId": "3242d8a5-74ea-42c8-d8e0-561be17b7bf3",
        "colab": {
          "base_uri": "https://localhost:8080/"
        }
      },
      "execution_count": 14,
      "outputs": [
        {
          "output_type": "stream",
          "name": "stdout",
          "text": [
            "Collecting optuna-integration[lightgbm]\n",
            "  Downloading optuna_integration-4.3.0-py3-none-any.whl.metadata (12 kB)\n",
            "Collecting optuna (from optuna-integration[lightgbm])\n",
            "  Downloading optuna-4.3.0-py3-none-any.whl.metadata (17 kB)\n",
            "Requirement already satisfied: lightgbm in /usr/local/lib/python3.11/dist-packages (from optuna-integration[lightgbm]) (4.5.0)\n",
            "Requirement already satisfied: scikit-learn in /usr/local/lib/python3.11/dist-packages (from optuna-integration[lightgbm]) (1.6.1)\n",
            "Requirement already satisfied: numpy>=1.17.0 in /usr/local/lib/python3.11/dist-packages (from lightgbm->optuna-integration[lightgbm]) (2.0.2)\n",
            "Requirement already satisfied: scipy in /usr/local/lib/python3.11/dist-packages (from lightgbm->optuna-integration[lightgbm]) (1.15.3)\n",
            "Collecting alembic>=1.5.0 (from optuna->optuna-integration[lightgbm])\n",
            "  Downloading alembic-1.16.1-py3-none-any.whl.metadata (7.3 kB)\n",
            "Collecting colorlog (from optuna->optuna-integration[lightgbm])\n",
            "  Downloading colorlog-6.9.0-py3-none-any.whl.metadata (10 kB)\n",
            "Requirement already satisfied: packaging>=20.0 in /usr/local/lib/python3.11/dist-packages (from optuna->optuna-integration[lightgbm]) (24.2)\n",
            "Requirement already satisfied: sqlalchemy>=1.4.2 in /usr/local/lib/python3.11/dist-packages (from optuna->optuna-integration[lightgbm]) (2.0.40)\n",
            "Requirement already satisfied: tqdm in /usr/local/lib/python3.11/dist-packages (from optuna->optuna-integration[lightgbm]) (4.67.1)\n",
            "Requirement already satisfied: PyYAML in /usr/local/lib/python3.11/dist-packages (from optuna->optuna-integration[lightgbm]) (6.0.2)\n",
            "Requirement already satisfied: joblib>=1.2.0 in /usr/local/lib/python3.11/dist-packages (from scikit-learn->optuna-integration[lightgbm]) (1.5.0)\n",
            "Requirement already satisfied: threadpoolctl>=3.1.0 in /usr/local/lib/python3.11/dist-packages (from scikit-learn->optuna-integration[lightgbm]) (3.6.0)\n",
            "Requirement already satisfied: Mako in /usr/lib/python3/dist-packages (from alembic>=1.5.0->optuna->optuna-integration[lightgbm]) (1.1.3)\n",
            "Requirement already satisfied: typing-extensions>=4.12 in /usr/local/lib/python3.11/dist-packages (from alembic>=1.5.0->optuna->optuna-integration[lightgbm]) (4.13.2)\n",
            "Requirement already satisfied: greenlet>=1 in /usr/local/lib/python3.11/dist-packages (from sqlalchemy>=1.4.2->optuna->optuna-integration[lightgbm]) (3.2.2)\n",
            "Downloading optuna-4.3.0-py3-none-any.whl (386 kB)\n",
            "\u001b[2K   \u001b[90m━━━━━━━━━━━━━━━━━━━━━━━━━━━━━━━━━━━━━━━━\u001b[0m \u001b[32m386.6/386.6 kB\u001b[0m \u001b[31m12.1 MB/s\u001b[0m eta \u001b[36m0:00:00\u001b[0m\n",
            "\u001b[?25hDownloading optuna_integration-4.3.0-py3-none-any.whl (98 kB)\n",
            "\u001b[2K   \u001b[90m━━━━━━━━━━━━━━━━━━━━━━━━━━━━━━━━━━━━━━━━\u001b[0m \u001b[32m98.5/98.5 kB\u001b[0m \u001b[31m10.2 MB/s\u001b[0m eta \u001b[36m0:00:00\u001b[0m\n",
            "\u001b[?25hDownloading alembic-1.16.1-py3-none-any.whl (242 kB)\n",
            "\u001b[2K   \u001b[90m━━━━━━━━━━━━━━━━━━━━━━━━━━━━━━━━━━━━━━━━\u001b[0m \u001b[32m242.5/242.5 kB\u001b[0m \u001b[31m23.2 MB/s\u001b[0m eta \u001b[36m0:00:00\u001b[0m\n",
            "\u001b[?25hDownloading colorlog-6.9.0-py3-none-any.whl (11 kB)\n",
            "Installing collected packages: colorlog, alembic, optuna, optuna-integration\n",
            "Successfully installed alembic-1.16.1 colorlog-6.9.0 optuna-4.3.0 optuna-integration-4.3.0\n"
          ]
        }
      ]
    },
    {
      "cell_type": "code",
      "source": [
        "import optuna.integration.lightgbm as lgb_optuna\n",
        "from sklearn.model_selection import KFold"
      ],
      "metadata": {
        "id": "MLjyI1w28HGv"
      },
      "execution_count": 15,
      "outputs": []
    },
    {
      "cell_type": "code",
      "source": [
        "params = {\n",
        "    \"objective\": \"regression\",\n",
        "    \"metric\": \"rmse\",\n",
        "    \"verbosity\": -1,\n",
        "    \"boosting_type\": \"gbdt\",\n",
        "    \"feature_pre_filter\": False,\n",
        "    \"early_stopping_rounds\": 50,\n",
        "    \"device_type\": \"gpu\",\n",
        "    \"random_state\": 42\n",
        "}\n",
        "\n",
        "kf = KFold(n_splits=5, shuffle=True, random_state=42)\n",
        "\n",
        "tuner = lgb_optuna.LightGBMTunerCV(\n",
        "    params=params,\n",
        "    train_set=train_data,\n",
        "    num_boost_round=10000,\n",
        "    folds=kf,\n",
        "    return_cvbooster=True\n",
        ")\n"
      ],
      "metadata": {
        "id": "3wpS4ZiI8Q74",
        "outputId": "4350617f-1de1-46c1-8ab7-27702991203d",
        "colab": {
          "base_uri": "https://localhost:8080/"
        }
      },
      "execution_count": 18,
      "outputs": [
        {
          "output_type": "stream",
          "name": "stderr",
          "text": [
            "[I 2025-05-27 04:17:41,301] A new study created in memory with name: no-name-370685c3-a9a4-4618-a5f6-d15ba9a2e166\n"
          ]
        }
      ]
    },
    {
      "cell_type": "code",
      "source": [
        "tuner.run()\n",
        "\n",
        "print(\"Best parameters:\")\n",
        "print(tuner.best_params)\n",
        "\n",
        "print(\"Best CV score:\")\n",
        "print(tuner.best_score)"
      ],
      "metadata": {
        "id": "GxH0L7MF86m8",
        "outputId": "9f413922-e54d-4cab-96ee-ca8432987a47",
        "colab": {
          "base_uri": "https://localhost:8080/"
        }
      },
      "execution_count": null,
      "outputs": [
        {
          "output_type": "stream",
          "name": "stderr",
          "text": [
            "\n",
            "  0%|          | 0/7 [00:00<?, ?it/s]\u001b[A\n",
            "feature_fraction, val_score: inf:   0%|          | 0/7 [00:00<?, ?it/s]\u001b[A/usr/local/lib/python3.11/dist-packages/sklearn/model_selection/_split.py:86: UserWarning: The groups parameter is ignored by KFold\n",
            "  warnings.warn(\n",
            "\n",
            "feature_fraction, val_score: 3.612856:   0%|          | 0/7 [01:30<?, ?it/s]\u001b[A\n",
            "feature_fraction, val_score: 3.612856:  14%|#4        | 1/7 [01:30<09:05, 90.89s/it]\u001b[A[I 2025-05-27 04:19:13,895] Trial 0 finished with value: 3.612856185040374 and parameters: {'feature_fraction': 1.0}. Best is trial 0 with value: 3.612856185040374.\n",
            "\n",
            "feature_fraction, val_score: 3.612856:  14%|#4        | 1/7 [01:30<09:05, 90.89s/it]\u001b[A/usr/local/lib/python3.11/dist-packages/sklearn/model_selection/_split.py:86: UserWarning: The groups parameter is ignored by KFold\n",
            "  warnings.warn(\n",
            "\n",
            "feature_fraction, val_score: 3.595322:  14%|#4        | 1/7 [03:02<09:05, 90.89s/it]\u001b[A\n",
            "feature_fraction, val_score: 3.595322:  29%|##8       | 2/7 [03:02<07:35, 91.09s/it]\u001b[A[I 2025-05-27 04:20:45,126] Trial 1 finished with value: 3.595321583589797 and parameters: {'feature_fraction': 0.6}. Best is trial 1 with value: 3.595321583589797.\n",
            "\n",
            "feature_fraction, val_score: 3.595322:  29%|##8       | 2/7 [03:02<07:35, 91.09s/it]\u001b[A/usr/local/lib/python3.11/dist-packages/sklearn/model_selection/_split.py:86: UserWarning: The groups parameter is ignored by KFold\n",
            "  warnings.warn(\n",
            "\n",
            "feature_fraction, val_score: 3.595322:  29%|##8       | 2/7 [04:54<07:35, 91.09s/it]\u001b[A\n",
            "feature_fraction, val_score: 3.595322:  43%|####2     | 3/7 [04:54<06:43, 100.94s/it]\u001b[A[I 2025-05-27 04:22:37,998] Trial 2 finished with value: 3.6118203833052207 and parameters: {'feature_fraction': 0.5}. Best is trial 1 with value: 3.595321583589797.\n",
            "\n",
            "feature_fraction, val_score: 3.595322:  43%|####2     | 3/7 [04:54<06:43, 100.94s/it]\u001b[A/usr/local/lib/python3.11/dist-packages/sklearn/model_selection/_split.py:86: UserWarning: The groups parameter is ignored by KFold\n",
            "  warnings.warn(\n",
            "\n",
            "feature_fraction, val_score: 3.595322:  43%|####2     | 3/7 [06:12<06:43, 100.94s/it]\u001b[A\n",
            "feature_fraction, val_score: 3.595322:  57%|#####7    | 4/7 [06:12<04:35, 91.81s/it] \u001b[A[I 2025-05-27 04:23:55,817] Trial 3 finished with value: 3.6009438989489064 and parameters: {'feature_fraction': 0.7}. Best is trial 1 with value: 3.595321583589797.\n",
            "\n",
            "feature_fraction, val_score: 3.595322:  57%|#####7    | 4/7 [06:12<04:35, 91.81s/it]\u001b[A/usr/local/lib/python3.11/dist-packages/sklearn/model_selection/_split.py:86: UserWarning: The groups parameter is ignored by KFold\n",
            "  warnings.warn(\n",
            "\n",
            "feature_fraction, val_score: 3.595322:  57%|#####7    | 4/7 [09:35<04:35, 91.81s/it]\u001b[A\n",
            "feature_fraction, val_score: 3.595322:  71%|#######1  | 5/7 [09:35<04:23, 131.86s/it]\u001b[A[I 2025-05-27 04:27:18,697] Trial 4 finished with value: 3.6168589541928164 and parameters: {'feature_fraction': 0.4}. Best is trial 1 with value: 3.595321583589797.\n",
            "\n",
            "feature_fraction, val_score: 3.595322:  71%|#######1  | 5/7 [09:35<04:23, 131.86s/it]\u001b[A/usr/local/lib/python3.11/dist-packages/sklearn/model_selection/_split.py:86: UserWarning: The groups parameter is ignored by KFold\n",
            "  warnings.warn(\n",
            "\n",
            "feature_fraction, val_score: 3.595322:  71%|#######1  | 5/7 [10:52<04:23, 131.86s/it]\u001b[A\n",
            "feature_fraction, val_score: 3.595322:  86%|########5 | 6/7 [10:52<01:53, 113.35s/it]\u001b[A[I 2025-05-27 04:28:36,097] Trial 5 finished with value: 3.600024157871809 and parameters: {'feature_fraction': 0.8999999999999999}. Best is trial 1 with value: 3.595321583589797.\n",
            "\n",
            "feature_fraction, val_score: 3.595322:  86%|########5 | 6/7 [10:53<01:53, 113.35s/it]\u001b[A/usr/local/lib/python3.11/dist-packages/sklearn/model_selection/_split.py:86: UserWarning: The groups parameter is ignored by KFold\n",
            "  warnings.warn(\n",
            "\n",
            "feature_fraction, val_score: 3.595322:  86%|########5 | 6/7 [12:12<01:53, 113.35s/it]\u001b[A\n",
            "feature_fraction, val_score: 3.595322: 100%|##########| 7/7 [12:12<00:00, 102.17s/it]\u001b[A[I 2025-05-27 04:29:55,248] Trial 6 finished with value: 3.6009342658482906 and parameters: {'feature_fraction': 0.8}. Best is trial 1 with value: 3.595321583589797.\n",
            "feature_fraction, val_score: 3.595322: 100%|##########| 7/7 [12:12<00:00, 104.61s/it]\n",
            "\n",
            "  0%|          | 0/20 [00:00<?, ?it/s]\u001b[A\n",
            "num_leaves, val_score: 3.595322:   0%|          | 0/20 [00:00<?, ?it/s]\u001b[A/usr/local/lib/python3.11/dist-packages/sklearn/model_selection/_split.py:86: UserWarning: The groups parameter is ignored by KFold\n",
            "  warnings.warn(\n",
            "\n",
            "num_leaves, val_score: 3.595322:   0%|          | 0/20 [01:01<?, ?it/s]\u001b[A\n",
            "num_leaves, val_score: 3.595322:   5%|5         | 1/20 [01:01<19:23, 61.23s/it]\u001b[A[I 2025-05-27 04:30:56,690] Trial 7 finished with value: 3.6078950914819727 and parameters: {'num_leaves': 174}. Best is trial 7 with value: 3.6078950914819727.\n",
            "\n",
            "num_leaves, val_score: 3.595322:   5%|5         | 1/20 [01:01<19:23, 61.23s/it]\u001b[A/usr/local/lib/python3.11/dist-packages/sklearn/model_selection/_split.py:86: UserWarning: The groups parameter is ignored by KFold\n",
            "  warnings.warn(\n",
            "\n",
            "num_leaves, val_score: 3.595322:   5%|5         | 1/20 [02:17<19:23, 61.23s/it]\u001b[A\n",
            "num_leaves, val_score: 3.595322:  10%|#         | 2/20 [02:17<20:56, 69.82s/it]\u001b[A[I 2025-05-27 04:32:12,531] Trial 8 finished with value: 3.606305963305201 and parameters: {'num_leaves': 158}. Best is trial 8 with value: 3.606305963305201.\n",
            "\n",
            "num_leaves, val_score: 3.595322:  10%|#         | 2/20 [02:17<20:56, 69.82s/it]\u001b[A/usr/local/lib/python3.11/dist-packages/sklearn/model_selection/_split.py:86: UserWarning: The groups parameter is ignored by KFold\n",
            "  warnings.warn(\n",
            "\n",
            "num_leaves, val_score: 3.595322:  10%|#         | 2/20 [03:31<20:56, 69.82s/it]\u001b[A\n",
            "num_leaves, val_score: 3.595322:  15%|#5        | 3/20 [03:31<20:22, 71.93s/it]\u001b[A[I 2025-05-27 04:33:26,963] Trial 9 finished with value: 3.602909066943547 and parameters: {'num_leaves': 175}. Best is trial 9 with value: 3.602909066943547.\n",
            "\n",
            "num_leaves, val_score: 3.595322:  15%|#5        | 3/20 [03:31<20:22, 71.93s/it]\u001b[A/usr/local/lib/python3.11/dist-packages/sklearn/model_selection/_split.py:86: UserWarning: The groups parameter is ignored by KFold\n",
            "  warnings.warn(\n",
            "\n",
            "num_leaves, val_score: 3.595322:  15%|#5        | 3/20 [05:17<20:22, 71.93s/it]\u001b[A\n",
            "num_leaves, val_score: 3.595322:  20%|##        | 4/20 [05:17<22:44, 85.30s/it]\u001b[A[I 2025-05-27 04:35:12,801] Trial 10 finished with value: 3.596002167176877 and parameters: {'num_leaves': 27}. Best is trial 10 with value: 3.596002167176877.\n",
            "\n",
            "num_leaves, val_score: 3.595322:  20%|##        | 4/20 [05:17<22:44, 85.30s/it]\u001b[A/usr/local/lib/python3.11/dist-packages/sklearn/model_selection/_split.py:86: UserWarning: The groups parameter is ignored by KFold\n",
            "  warnings.warn(\n",
            "\n",
            "num_leaves, val_score: 3.591166:  20%|##        | 4/20 [07:24<22:44, 85.30s/it]\u001b[A\n",
            "num_leaves, val_score: 3.591166:  25%|##5       | 5/20 [07:24<25:04, 100.31s/it]\u001b[A[I 2025-05-27 04:37:19,481] Trial 11 finished with value: 3.5911664875809444 and parameters: {'num_leaves': 15}. Best is trial 11 with value: 3.5911664875809444.\n",
            "\n",
            "num_leaves, val_score: 3.591166:  25%|##5       | 5/20 [07:24<25:04, 100.31s/it]\u001b[A/usr/local/lib/python3.11/dist-packages/sklearn/model_selection/_split.py:86: UserWarning: The groups parameter is ignored by KFold\n",
            "  warnings.warn(\n",
            "\n",
            "num_leaves, val_score: 3.585379:  25%|##5       | 5/20 [10:09<25:04, 100.31s/it]\u001b[A\n",
            "num_leaves, val_score: 3.585379:  30%|###       | 6/20 [10:09<28:33, 122.36s/it]\u001b[A[I 2025-05-27 04:40:04,650] Trial 12 finished with value: 3.585378871186099 and parameters: {'num_leaves': 8}. Best is trial 12 with value: 3.585378871186099.\n",
            "\n",
            "num_leaves, val_score: 3.585379:  30%|###       | 6/20 [10:09<28:33, 122.36s/it]\u001b[A/usr/local/lib/python3.11/dist-packages/sklearn/model_selection/_split.py:86: UserWarning: The groups parameter is ignored by KFold\n",
            "  warnings.warn(\n"
          ]
        }
      ]
    }
  ]
}